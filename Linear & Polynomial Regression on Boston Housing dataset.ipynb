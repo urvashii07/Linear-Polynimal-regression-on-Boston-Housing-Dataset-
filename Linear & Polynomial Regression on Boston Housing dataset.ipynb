{
 "cells": [
  {
   "cell_type": "code",
   "execution_count": 1,
   "id": "f1c4647e",
   "metadata": {},
   "outputs": [],
   "source": [
    "import numpy as np\n",
    "import pandas as pd\n",
    "import matplotlib.pyplot as plt\n",
    "import seaborn as sb\n",
    "import warnings\n",
    "warnings.filterwarnings('ignore')"
   ]
  },
  {
   "cell_type": "code",
   "execution_count": 2,
   "id": "c0a1b608",
   "metadata": {},
   "outputs": [],
   "source": [
    "#from the above discription of Columns :\n",
    "#inputs are [CRIM, ZN, INDUS, CHAS, NOX, RM, AGE, DIS, RAD, TAX, PTRATIO, B, LSTAT]\n",
    "#output is [MEDV]"
   ]
  },
  {
   "cell_type": "code",
   "execution_count": 3,
   "id": "ceb70193",
   "metadata": {},
   "outputs": [
    {
     "data": {
      "text/html": [
       "<div>\n",
       "<style scoped>\n",
       "    .dataframe tbody tr th:only-of-type {\n",
       "        vertical-align: middle;\n",
       "    }\n",
       "\n",
       "    .dataframe tbody tr th {\n",
       "        vertical-align: top;\n",
       "    }\n",
       "\n",
       "    .dataframe thead th {\n",
       "        text-align: right;\n",
       "    }\n",
       "</style>\n",
       "<table border=\"1\" class=\"dataframe\">\n",
       "  <thead>\n",
       "    <tr style=\"text-align: right;\">\n",
       "      <th></th>\n",
       "      <th>crim</th>\n",
       "      <th>zn</th>\n",
       "      <th>indus</th>\n",
       "      <th>chas</th>\n",
       "      <th>nox</th>\n",
       "      <th>rm</th>\n",
       "      <th>age</th>\n",
       "      <th>dis</th>\n",
       "      <th>rad</th>\n",
       "      <th>tax</th>\n",
       "      <th>ptratio</th>\n",
       "      <th>b</th>\n",
       "      <th>lstat</th>\n",
       "      <th>medv</th>\n",
       "    </tr>\n",
       "  </thead>\n",
       "  <tbody>\n",
       "    <tr>\n",
       "      <th>0</th>\n",
       "      <td>0.00632</td>\n",
       "      <td>18.0</td>\n",
       "      <td>2.31</td>\n",
       "      <td>0</td>\n",
       "      <td>0.538</td>\n",
       "      <td>6.575</td>\n",
       "      <td>65.2</td>\n",
       "      <td>4.0900</td>\n",
       "      <td>1</td>\n",
       "      <td>296</td>\n",
       "      <td>15.3</td>\n",
       "      <td>396.90</td>\n",
       "      <td>4.98</td>\n",
       "      <td>24.0</td>\n",
       "    </tr>\n",
       "    <tr>\n",
       "      <th>1</th>\n",
       "      <td>0.02731</td>\n",
       "      <td>0.0</td>\n",
       "      <td>7.07</td>\n",
       "      <td>0</td>\n",
       "      <td>0.469</td>\n",
       "      <td>6.421</td>\n",
       "      <td>78.9</td>\n",
       "      <td>4.9671</td>\n",
       "      <td>2</td>\n",
       "      <td>242</td>\n",
       "      <td>17.8</td>\n",
       "      <td>396.90</td>\n",
       "      <td>9.14</td>\n",
       "      <td>21.6</td>\n",
       "    </tr>\n",
       "    <tr>\n",
       "      <th>2</th>\n",
       "      <td>0.02729</td>\n",
       "      <td>0.0</td>\n",
       "      <td>7.07</td>\n",
       "      <td>0</td>\n",
       "      <td>0.469</td>\n",
       "      <td>7.185</td>\n",
       "      <td>61.1</td>\n",
       "      <td>4.9671</td>\n",
       "      <td>2</td>\n",
       "      <td>242</td>\n",
       "      <td>17.8</td>\n",
       "      <td>392.83</td>\n",
       "      <td>4.03</td>\n",
       "      <td>34.7</td>\n",
       "    </tr>\n",
       "    <tr>\n",
       "      <th>3</th>\n",
       "      <td>0.03237</td>\n",
       "      <td>0.0</td>\n",
       "      <td>2.18</td>\n",
       "      <td>0</td>\n",
       "      <td>0.458</td>\n",
       "      <td>6.998</td>\n",
       "      <td>45.8</td>\n",
       "      <td>6.0622</td>\n",
       "      <td>3</td>\n",
       "      <td>222</td>\n",
       "      <td>18.7</td>\n",
       "      <td>394.63</td>\n",
       "      <td>2.94</td>\n",
       "      <td>33.4</td>\n",
       "    </tr>\n",
       "    <tr>\n",
       "      <th>4</th>\n",
       "      <td>0.06905</td>\n",
       "      <td>0.0</td>\n",
       "      <td>2.18</td>\n",
       "      <td>0</td>\n",
       "      <td>0.458</td>\n",
       "      <td>7.147</td>\n",
       "      <td>54.2</td>\n",
       "      <td>6.0622</td>\n",
       "      <td>3</td>\n",
       "      <td>222</td>\n",
       "      <td>18.7</td>\n",
       "      <td>396.90</td>\n",
       "      <td>5.33</td>\n",
       "      <td>36.2</td>\n",
       "    </tr>\n",
       "  </tbody>\n",
       "</table>\n",
       "</div>"
      ],
      "text/plain": [
       "      crim    zn  indus  chas    nox     rm   age     dis  rad  tax  ptratio  \\\n",
       "0  0.00632  18.0   2.31     0  0.538  6.575  65.2  4.0900    1  296     15.3   \n",
       "1  0.02731   0.0   7.07     0  0.469  6.421  78.9  4.9671    2  242     17.8   \n",
       "2  0.02729   0.0   7.07     0  0.469  7.185  61.1  4.9671    2  242     17.8   \n",
       "3  0.03237   0.0   2.18     0  0.458  6.998  45.8  6.0622    3  222     18.7   \n",
       "4  0.06905   0.0   2.18     0  0.458  7.147  54.2  6.0622    3  222     18.7   \n",
       "\n",
       "        b  lstat  medv  \n",
       "0  396.90   4.98  24.0  \n",
       "1  396.90   9.14  21.6  \n",
       "2  392.83   4.03  34.7  \n",
       "3  394.63   2.94  33.4  \n",
       "4  396.90   5.33  36.2  "
      ]
     },
     "execution_count": 3,
     "metadata": {},
     "output_type": "execute_result"
    }
   ],
   "source": [
    "# to load dataset\n",
    "df=pd.read_csv('BostonHousing.csv')\n",
    "df.head()"
   ]
  },
  {
   "cell_type": "code",
   "execution_count": 4,
   "id": "4ee949e8",
   "metadata": {},
   "outputs": [],
   "source": [
    "# here medv is a output variable.& the value is in contineous numeric value.So, here we use regression algo method."
   ]
  },
  {
   "cell_type": "code",
   "execution_count": 5,
   "id": "ddae55df",
   "metadata": {},
   "outputs": [
    {
     "data": {
      "text/plain": [
       "(506, 14)"
      ]
     },
     "execution_count": 5,
     "metadata": {},
     "output_type": "execute_result"
    }
   ],
   "source": [
    "# to show the no. of rows and no. columns\n",
    "df.shape"
   ]
  },
  {
   "cell_type": "code",
   "execution_count": 6,
   "id": "731ae8f2",
   "metadata": {},
   "outputs": [
    {
     "data": {
      "text/plain": [
       "crim       0\n",
       "zn         0\n",
       "indus      0\n",
       "chas       0\n",
       "nox        0\n",
       "rm         0\n",
       "age        0\n",
       "dis        0\n",
       "rad        0\n",
       "tax        0\n",
       "ptratio    0\n",
       "b          0\n",
       "lstat      0\n",
       "medv       0\n",
       "dtype: int64"
      ]
     },
     "execution_count": 6,
     "metadata": {},
     "output_type": "execute_result"
    }
   ],
   "source": [
    "# to check null values in the given dataset\n",
    "df.isnull().sum()\n",
    "# here there is no null value in any column."
   ]
  },
  {
   "cell_type": "code",
   "execution_count": 7,
   "id": "c506a031",
   "metadata": {},
   "outputs": [
    {
     "data": {
      "image/png": "[encoded data removed]",
      "text/plain": [
       "<Figure size 432x288 with 2 Axes>"
      ]
     },
     "metadata": {
      "needs_background": "light"
     },
     "output_type": "display_data"
    }
   ],
   "source": [
    "# to check null values in given dataset in visualize form.\n",
    "sb.heatmap(df.isnull())\n",
    "plt.show()"
   ]
  },
  {
   "cell_type": "code",
   "execution_count": 8,
   "id": "24f0bfc9",
   "metadata": {},
   "outputs": [
    {
     "data": {
      "text/plain": [
       "crim       float64\n",
       "zn         float64\n",
       "indus      float64\n",
       "chas         int64\n",
       "nox        float64\n",
       "rm         float64\n",
       "age        float64\n",
       "dis        float64\n",
       "rad          int64\n",
       "tax          int64\n",
       "ptratio    float64\n",
       "b          float64\n",
       "lstat      float64\n",
       "medv       float64\n",
       "dtype: object"
      ]
     },
     "execution_count": 8,
     "metadata": {},
     "output_type": "execute_result"
    }
   ],
   "source": [
    "# we have to crosscheck is any null value in our dataset checking their dtypes\n",
    "df.dtypes"
   ]
  },
  {
   "cell_type": "code",
   "execution_count": 9,
   "id": "b4d5d2e5",
   "metadata": {},
   "outputs": [
    {
     "data": {
      "text/plain": [
       "0"
      ]
     },
     "execution_count": 9,
     "metadata": {},
     "output_type": "execute_result"
    }
   ],
   "source": [
    "#check the duplicated value if there then drop it\n",
    "df.duplicated().sum()"
   ]
  },
  {
   "cell_type": "code",
   "execution_count": 10,
   "id": "14b8e83b",
   "metadata": {},
   "outputs": [
    {
     "data": {
      "text/html": [
       "<div>\n",
       "<style scoped>\n",
       "    .dataframe tbody tr th:only-of-type {\n",
       "        vertical-align: middle;\n",
       "    }\n",
       "\n",
       "    .dataframe tbody tr th {\n",
       "        vertical-align: top;\n",
       "    }\n",
       "\n",
       "    .dataframe thead th {\n",
       "        text-align: right;\n",
       "    }\n",
       "</style>\n",
       "<table border=\"1\" class=\"dataframe\">\n",
       "  <thead>\n",
       "    <tr style=\"text-align: right;\">\n",
       "      <th></th>\n",
       "      <th>crim</th>\n",
       "      <th>zn</th>\n",
       "      <th>indus</th>\n",
       "      <th>chas</th>\n",
       "      <th>nox</th>\n",
       "      <th>rm</th>\n",
       "      <th>age</th>\n",
       "      <th>dis</th>\n",
       "      <th>rad</th>\n",
       "      <th>tax</th>\n",
       "      <th>ptratio</th>\n",
       "      <th>b</th>\n",
       "      <th>lstat</th>\n",
       "      <th>medv</th>\n",
       "    </tr>\n",
       "  </thead>\n",
       "  <tbody>\n",
       "    <tr>\n",
       "      <th>112</th>\n",
       "      <td>0.12329</td>\n",
       "      <td>0.0</td>\n",
       "      <td>10.01</td>\n",
       "      <td>0</td>\n",
       "      <td>0.547</td>\n",
       "      <td>5.913</td>\n",
       "      <td>92.9</td>\n",
       "      <td>2.3534</td>\n",
       "      <td>6</td>\n",
       "      <td>432</td>\n",
       "      <td>17.8</td>\n",
       "      <td>394.95</td>\n",
       "      <td>16.21</td>\n",
       "      <td>18.8</td>\n",
       "    </tr>\n",
       "    <tr>\n",
       "      <th>458</th>\n",
       "      <td>7.75223</td>\n",
       "      <td>0.0</td>\n",
       "      <td>18.10</td>\n",
       "      <td>0</td>\n",
       "      <td>0.713</td>\n",
       "      <td>6.301</td>\n",
       "      <td>83.7</td>\n",
       "      <td>2.7831</td>\n",
       "      <td>24</td>\n",
       "      <td>666</td>\n",
       "      <td>20.2</td>\n",
       "      <td>272.21</td>\n",
       "      <td>16.23</td>\n",
       "      <td>14.9</td>\n",
       "    </tr>\n",
       "    <tr>\n",
       "      <th>47</th>\n",
       "      <td>0.22927</td>\n",
       "      <td>0.0</td>\n",
       "      <td>6.91</td>\n",
       "      <td>0</td>\n",
       "      <td>0.448</td>\n",
       "      <td>6.030</td>\n",
       "      <td>85.5</td>\n",
       "      <td>5.6894</td>\n",
       "      <td>3</td>\n",
       "      <td>233</td>\n",
       "      <td>17.9</td>\n",
       "      <td>392.74</td>\n",
       "      <td>18.80</td>\n",
       "      <td>16.6</td>\n",
       "    </tr>\n",
       "    <tr>\n",
       "      <th>258</th>\n",
       "      <td>0.66351</td>\n",
       "      <td>20.0</td>\n",
       "      <td>3.97</td>\n",
       "      <td>0</td>\n",
       "      <td>0.647</td>\n",
       "      <td>7.333</td>\n",
       "      <td>100.0</td>\n",
       "      <td>1.8946</td>\n",
       "      <td>5</td>\n",
       "      <td>264</td>\n",
       "      <td>13.0</td>\n",
       "      <td>383.29</td>\n",
       "      <td>7.79</td>\n",
       "      <td>36.0</td>\n",
       "    </tr>\n",
       "    <tr>\n",
       "      <th>156</th>\n",
       "      <td>2.44668</td>\n",
       "      <td>0.0</td>\n",
       "      <td>19.58</td>\n",
       "      <td>0</td>\n",
       "      <td>0.871</td>\n",
       "      <td>5.272</td>\n",
       "      <td>94.0</td>\n",
       "      <td>1.7364</td>\n",
       "      <td>5</td>\n",
       "      <td>403</td>\n",
       "      <td>14.7</td>\n",
       "      <td>88.63</td>\n",
       "      <td>16.14</td>\n",
       "      <td>13.1</td>\n",
       "    </tr>\n",
       "    <tr>\n",
       "      <th>159</th>\n",
       "      <td>1.42502</td>\n",
       "      <td>0.0</td>\n",
       "      <td>19.58</td>\n",
       "      <td>0</td>\n",
       "      <td>0.871</td>\n",
       "      <td>6.510</td>\n",
       "      <td>100.0</td>\n",
       "      <td>1.7659</td>\n",
       "      <td>5</td>\n",
       "      <td>403</td>\n",
       "      <td>14.7</td>\n",
       "      <td>364.31</td>\n",
       "      <td>7.39</td>\n",
       "      <td>23.3</td>\n",
       "    </tr>\n",
       "    <tr>\n",
       "      <th>127</th>\n",
       "      <td>0.25915</td>\n",
       "      <td>0.0</td>\n",
       "      <td>21.89</td>\n",
       "      <td>0</td>\n",
       "      <td>0.624</td>\n",
       "      <td>5.693</td>\n",
       "      <td>96.0</td>\n",
       "      <td>1.7883</td>\n",
       "      <td>4</td>\n",
       "      <td>437</td>\n",
       "      <td>21.2</td>\n",
       "      <td>392.11</td>\n",
       "      <td>17.19</td>\n",
       "      <td>16.2</td>\n",
       "    </tr>\n",
       "    <tr>\n",
       "      <th>209</th>\n",
       "      <td>0.43571</td>\n",
       "      <td>0.0</td>\n",
       "      <td>10.59</td>\n",
       "      <td>1</td>\n",
       "      <td>0.489</td>\n",
       "      <td>5.344</td>\n",
       "      <td>100.0</td>\n",
       "      <td>3.8750</td>\n",
       "      <td>4</td>\n",
       "      <td>277</td>\n",
       "      <td>18.6</td>\n",
       "      <td>396.90</td>\n",
       "      <td>23.09</td>\n",
       "      <td>20.0</td>\n",
       "    </tr>\n",
       "    <tr>\n",
       "      <th>65</th>\n",
       "      <td>0.03584</td>\n",
       "      <td>80.0</td>\n",
       "      <td>3.37</td>\n",
       "      <td>0</td>\n",
       "      <td>0.398</td>\n",
       "      <td>6.290</td>\n",
       "      <td>17.8</td>\n",
       "      <td>6.6115</td>\n",
       "      <td>4</td>\n",
       "      <td>337</td>\n",
       "      <td>16.1</td>\n",
       "      <td>396.90</td>\n",
       "      <td>4.67</td>\n",
       "      <td>23.5</td>\n",
       "    </tr>\n",
       "    <tr>\n",
       "      <th>187</th>\n",
       "      <td>0.07875</td>\n",
       "      <td>45.0</td>\n",
       "      <td>3.44</td>\n",
       "      <td>0</td>\n",
       "      <td>0.437</td>\n",
       "      <td>6.782</td>\n",
       "      <td>41.1</td>\n",
       "      <td>3.7886</td>\n",
       "      <td>5</td>\n",
       "      <td>398</td>\n",
       "      <td>15.2</td>\n",
       "      <td>393.87</td>\n",
       "      <td>6.68</td>\n",
       "      <td>32.0</td>\n",
       "    </tr>\n",
       "  </tbody>\n",
       "</table>\n",
       "</div>"
      ],
      "text/plain": [
       "        crim    zn  indus  chas    nox     rm    age     dis  rad  tax  \\\n",
       "112  0.12329   0.0  10.01     0  0.547  5.913   92.9  2.3534    6  432   \n",
       "458  7.75223   0.0  18.10     0  0.713  6.301   83.7  2.7831   24  666   \n",
       "47   0.22927   0.0   6.91     0  0.448  6.030   85.5  5.6894    3  233   \n",
       "258  0.66351  20.0   3.97     0  0.647  7.333  100.0  1.8946    5  264   \n",
       "156  2.44668   0.0  19.58     0  0.871  5.272   94.0  1.7364    5  403   \n",
       "159  1.42502   0.0  19.58     0  0.871  6.510  100.0  1.7659    5  403   \n",
       "127  0.25915   0.0  21.89     0  0.624  5.693   96.0  1.7883    4  437   \n",
       "209  0.43571   0.0  10.59     1  0.489  5.344  100.0  3.8750    4  277   \n",
       "65   0.03584  80.0   3.37     0  0.398  6.290   17.8  6.6115    4  337   \n",
       "187  0.07875  45.0   3.44     0  0.437  6.782   41.1  3.7886    5  398   \n",
       "\n",
       "     ptratio       b  lstat  medv  \n",
       "112     17.8  394.95  16.21  18.8  \n",
       "458     20.2  272.21  16.23  14.9  \n",
       "47      17.9  392.74  18.80  16.6  \n",
       "258     13.0  383.29   7.79  36.0  \n",
       "156     14.7   88.63  16.14  13.1  \n",
       "159     14.7  364.31   7.39  23.3  \n",
       "127     21.2  392.11  17.19  16.2  \n",
       "209     18.6  396.90  23.09  20.0  \n",
       "65      16.1  396.90   4.67  23.5  \n",
       "187     15.2  393.87   6.68  32.0  "
      ]
     },
     "execution_count": 10,
     "metadata": {},
     "output_type": "execute_result"
    }
   ],
   "source": [
    "# to show any ramdomly 10 values\n",
    "df.sample(10)"
   ]
  },
  {
   "cell_type": "code",
   "execution_count": 11,
   "id": "75c3d892",
   "metadata": {},
   "outputs": [
    {
     "data": {
      "image/png": "[encoded data removed]",
      "text/plain": [
       "<Figure size 1440x720 with 2 Axes>"
      ]
     },
     "metadata": {
      "needs_background": "light"
     },
     "output_type": "display_data"
    }
   ],
   "source": [
    "# to check co-realtion between input and output-variable\n",
    "plt.figure(figsize=(20,10))\n",
    "sb.heatmap(df.corr(),annot=True)\n",
    "plt.show()"
   ]
  },
  {
   "cell_type": "code",
   "execution_count": null,
   "id": "fe8905e2",
   "metadata": {},
   "outputs": [],
   "source": []
  },
  {
   "cell_type": "code",
   "execution_count": 12,
   "id": "29e70bc1",
   "metadata": {},
   "outputs": [],
   "source": [
    "#from the above discription of Columns :\n",
    "#inputs are [CRIM, ZN, INDUS, CHAS, NOX, RM, AGE, DIS, RAD, TAX, PTRATIO, B, LSTAT]\n",
    "#output is [MEDV]"
   ]
  },
  {
   "cell_type": "code",
   "execution_count": 13,
   "id": "0a12d37a",
   "metadata": {},
   "outputs": [
    {
     "data": {
      "text/html": [
       "<div>\n",
       "<style scoped>\n",
       "    .dataframe tbody tr th:only-of-type {\n",
       "        vertical-align: middle;\n",
       "    }\n",
       "\n",
       "    .dataframe tbody tr th {\n",
       "        vertical-align: top;\n",
       "    }\n",
       "\n",
       "    .dataframe thead th {\n",
       "        text-align: right;\n",
       "    }\n",
       "</style>\n",
       "<table border=\"1\" class=\"dataframe\">\n",
       "  <thead>\n",
       "    <tr style=\"text-align: right;\">\n",
       "      <th></th>\n",
       "      <th>indus</th>\n",
       "      <th>rm</th>\n",
       "      <th>tax</th>\n",
       "      <th>ptratio</th>\n",
       "      <th>lstat</th>\n",
       "      <th>medv</th>\n",
       "    </tr>\n",
       "  </thead>\n",
       "  <tbody>\n",
       "    <tr>\n",
       "      <th>0</th>\n",
       "      <td>2.31</td>\n",
       "      <td>6.575</td>\n",
       "      <td>296</td>\n",
       "      <td>15.3</td>\n",
       "      <td>4.98</td>\n",
       "      <td>24.0</td>\n",
       "    </tr>\n",
       "    <tr>\n",
       "      <th>1</th>\n",
       "      <td>7.07</td>\n",
       "      <td>6.421</td>\n",
       "      <td>242</td>\n",
       "      <td>17.8</td>\n",
       "      <td>9.14</td>\n",
       "      <td>21.6</td>\n",
       "    </tr>\n",
       "    <tr>\n",
       "      <th>2</th>\n",
       "      <td>7.07</td>\n",
       "      <td>7.185</td>\n",
       "      <td>242</td>\n",
       "      <td>17.8</td>\n",
       "      <td>4.03</td>\n",
       "      <td>34.7</td>\n",
       "    </tr>\n",
       "    <tr>\n",
       "      <th>3</th>\n",
       "      <td>2.18</td>\n",
       "      <td>6.998</td>\n",
       "      <td>222</td>\n",
       "      <td>18.7</td>\n",
       "      <td>2.94</td>\n",
       "      <td>33.4</td>\n",
       "    </tr>\n",
       "    <tr>\n",
       "      <th>4</th>\n",
       "      <td>2.18</td>\n",
       "      <td>7.147</td>\n",
       "      <td>222</td>\n",
       "      <td>18.7</td>\n",
       "      <td>5.33</td>\n",
       "      <td>36.2</td>\n",
       "    </tr>\n",
       "  </tbody>\n",
       "</table>\n",
       "</div>"
      ],
      "text/plain": [
       "   indus     rm  tax  ptratio  lstat  medv\n",
       "0   2.31  6.575  296     15.3   4.98  24.0\n",
       "1   7.07  6.421  242     17.8   9.14  21.6\n",
       "2   7.07  7.185  242     17.8   4.03  34.7\n",
       "3   2.18  6.998  222     18.7   2.94  33.4\n",
       "4   2.18  7.147  222     18.7   5.33  36.2"
      ]
     },
     "execution_count": 13,
     "metadata": {},
     "output_type": "execute_result"
    }
   ],
   "source": [
    "#those input relation is below 0.5 that column removes.\n",
    "# feature selection:\n",
    "# take input : indus,rm,ptration,lstat,tax\n",
    "col=df[['crim','zn','chas','nox','age','dis','rad','b']]\n",
    "# select those column whose drop from given dataset df\n",
    "df.drop(col,axis=1,inplace=True)\n",
    "df.head()\n",
    "# this table is after removing column"
   ]
  },
  {
   "cell_type": "code",
   "execution_count": 14,
   "id": "61c2d1ab",
   "metadata": {},
   "outputs": [
    {
     "data": {
      "text/plain": [
       "<function matplotlib.pyplot.show(close=None, block=None)>"
      ]
     },
     "execution_count": 14,
     "metadata": {},
     "output_type": "execute_result"
    },
    {
     "data": {
      "image/png": "[encoded data removed]",
      "text/plain": [
       "<Figure size 720x504 with 2 Axes>"
      ]
     },
     "metadata": {
      "needs_background": "light"
     },
     "output_type": "display_data"
    }
   ],
   "source": [
    "# now check the relation between input to input\n",
    "plt.figure(figsize=(10,7))  #to increase the size of table.\n",
    "sb.heatmap(df.corr(),annot=True)\n",
    "plt.show"
   ]
  },
  {
   "cell_type": "code",
   "execution_count": 15,
   "id": "e08f8990",
   "metadata": {},
   "outputs": [],
   "source": [
    "# take input lstat\n",
    "# remove input indus, rm, tax,ptratio\n",
    "x=df[['lstat']] # input\n",
    "y=df['medv']  #output\n"
   ]
  },
  {
   "cell_type": "code",
   "execution_count": 16,
   "id": "04a0d806",
   "metadata": {},
   "outputs": [
    {
     "data": {
      "text/html": [
       "<div>\n",
       "<style scoped>\n",
       "    .dataframe tbody tr th:only-of-type {\n",
       "        vertical-align: middle;\n",
       "    }\n",
       "\n",
       "    .dataframe tbody tr th {\n",
       "        vertical-align: top;\n",
       "    }\n",
       "\n",
       "    .dataframe thead th {\n",
       "        text-align: right;\n",
       "    }\n",
       "</style>\n",
       "<table border=\"1\" class=\"dataframe\">\n",
       "  <thead>\n",
       "    <tr style=\"text-align: right;\">\n",
       "      <th></th>\n",
       "      <th>lstat</th>\n",
       "    </tr>\n",
       "  </thead>\n",
       "  <tbody>\n",
       "    <tr>\n",
       "      <th>0</th>\n",
       "      <td>4.98</td>\n",
       "    </tr>\n",
       "    <tr>\n",
       "      <th>1</th>\n",
       "      <td>9.14</td>\n",
       "    </tr>\n",
       "    <tr>\n",
       "      <th>2</th>\n",
       "      <td>4.03</td>\n",
       "    </tr>\n",
       "    <tr>\n",
       "      <th>3</th>\n",
       "      <td>2.94</td>\n",
       "    </tr>\n",
       "    <tr>\n",
       "      <th>4</th>\n",
       "      <td>5.33</td>\n",
       "    </tr>\n",
       "    <tr>\n",
       "      <th>...</th>\n",
       "      <td>...</td>\n",
       "    </tr>\n",
       "    <tr>\n",
       "      <th>501</th>\n",
       "      <td>9.67</td>\n",
       "    </tr>\n",
       "    <tr>\n",
       "      <th>502</th>\n",
       "      <td>9.08</td>\n",
       "    </tr>\n",
       "    <tr>\n",
       "      <th>503</th>\n",
       "      <td>5.64</td>\n",
       "    </tr>\n",
       "    <tr>\n",
       "      <th>504</th>\n",
       "      <td>6.48</td>\n",
       "    </tr>\n",
       "    <tr>\n",
       "      <th>505</th>\n",
       "      <td>7.88</td>\n",
       "    </tr>\n",
       "  </tbody>\n",
       "</table>\n",
       "<p>506 rows × 1 columns</p>\n",
       "</div>"
      ],
      "text/plain": [
       "     lstat\n",
       "0     4.98\n",
       "1     9.14\n",
       "2     4.03\n",
       "3     2.94\n",
       "4     5.33\n",
       "..     ...\n",
       "501   9.67\n",
       "502   9.08\n",
       "503   5.64\n",
       "504   6.48\n",
       "505   7.88\n",
       "\n",
       "[506 rows x 1 columns]"
      ]
     },
     "execution_count": 16,
     "metadata": {},
     "output_type": "execute_result"
    }
   ],
   "source": [
    "x"
   ]
  },
  {
   "cell_type": "code",
   "execution_count": 17,
   "id": "a8036fee",
   "metadata": {},
   "outputs": [],
   "source": [
    "# train_test_split\n",
    "from sklearn.model_selection import train_test_split\n",
    "x_train,x_test,y_train,y_test=train_test_split(x,y,test_size=0.3,random_state=1)\n",
    "    "
   ]
  },
  {
   "cell_type": "code",
   "execution_count": 18,
   "id": "52ad4cfc",
   "metadata": {},
   "outputs": [
    {
     "data": {
      "text/plain": [
       "((354, 1), (152, 1))"
      ]
     },
     "execution_count": 18,
     "metadata": {},
     "output_type": "execute_result"
    }
   ],
   "source": [
    "x_train.shape,x_test.shape"
   ]
  },
  {
   "cell_type": "code",
   "execution_count": 19,
   "id": "78503ec4",
   "metadata": {},
   "outputs": [],
   "source": [
    "# apply standard scaler on input X_train and X_test\n",
    "from sklearn.preprocessing import StandardScaler\n",
    "# create object of StandardScaler class\n",
    "ss=StandardScaler()\n",
    "x_train=ss.fit_transform(x_train)\n",
    "x_test=ss.transform(x_test)"
   ]
  },
  {
   "cell_type": "code",
   "execution_count": 20,
   "id": "aa7c63e6",
   "metadata": {},
   "outputs": [],
   "source": [
    "from sklearn.linear_model import LinearRegression\n",
    "#create object of LinearRegression class \n",
    "lr=LinearRegression()"
   ]
  },
  {
   "cell_type": "code",
   "execution_count": 21,
   "id": "a4b89e68",
   "metadata": {},
   "outputs": [
    {
     "data": {
      "text/html": [
       "<style>#sk-container-id-1 {color: black;background-color: white;}#sk-container-id-1 pre{padding: 0;}#sk-container-id-1 div.sk-toggleable {background-color: white;}#sk-container-id-1 label.sk-toggleable__label {cursor: pointer;display: block;width: 100%;margin-bottom: 0;padding: 0.3em;box-sizing: border-box;text-align: center;}#sk-container-id-1 label.sk-toggleable__label-arrow:before {content: \"▸\";float: left;margin-right: 0.25em;color: #696969;}#sk-container-id-1 label.sk-toggleable__label-arrow:hover:before {color: black;}#sk-container-id-1 div.sk-estimator:hover label.sk-toggleable__label-arrow:before {color: black;}#sk-container-id-1 div.sk-toggleable__content {max-height: 0;max-width: 0;overflow: hidden;text-align: left;background-color: #f0f8ff;}#sk-container-id-1 div.sk-toggleable__content pre {margin: 0.2em;color: black;border-radius: 0.25em;background-color: #f0f8ff;}#sk-container-id-1 input.sk-toggleable__control:checked~div.sk-toggleable__content {max-height: 200px;max-width: 100%;overflow: auto;}#sk-container-id-1 input.sk-toggleable__control:checked~label.sk-toggleable__label-arrow:before {content: \"▾\";}#sk-container-id-1 div.sk-estimator input.sk-toggleable__control:checked~label.sk-toggleable__label {background-color: #d4ebff;}#sk-container-id-1 div.sk-label input.sk-toggleable__control:checked~label.sk-toggleable__label {background-color: #d4ebff;}#sk-container-id-1 input.sk-hidden--visually {border: 0;clip: rect(1px 1px 1px 1px);clip: rect(1px, 1px, 1px, 1px);height: 1px;margin: -1px;overflow: hidden;padding: 0;position: absolute;width: 1px;}#sk-container-id-1 div.sk-estimator {font-family: monospace;background-color: #f0f8ff;border: 1px dotted black;border-radius: 0.25em;box-sizing: border-box;margin-bottom: 0.5em;}#sk-container-id-1 div.sk-estimator:hover {background-color: #d4ebff;}#sk-container-id-1 div.sk-parallel-item::after {content: \"\";width: 100%;border-bottom: 1px solid gray;flex-grow: 1;}#sk-container-id-1 div.sk-label:hover label.sk-toggleable__label {background-color: #d4ebff;}#sk-container-id-1 div.sk-serial::before {content: \"\";position: absolute;border-left: 1px solid gray;box-sizing: border-box;top: 0;bottom: 0;left: 50%;z-index: 0;}#sk-container-id-1 div.sk-serial {display: flex;flex-direction: column;align-items: center;background-color: white;padding-right: 0.2em;padding-left: 0.2em;position: relative;}#sk-container-id-1 div.sk-item {position: relative;z-index: 1;}#sk-container-id-1 div.sk-parallel {display: flex;align-items: stretch;justify-content: center;background-color: white;position: relative;}#sk-container-id-1 div.sk-item::before, #sk-container-id-1 div.sk-parallel-item::before {content: \"\";position: absolute;border-left: 1px solid gray;box-sizing: border-box;top: 0;bottom: 0;left: 50%;z-index: -1;}#sk-container-id-1 div.sk-parallel-item {display: flex;flex-direction: column;z-index: 1;position: relative;background-color: white;}#sk-container-id-1 div.sk-parallel-item:first-child::after {align-self: flex-end;width: 50%;}#sk-container-id-1 div.sk-parallel-item:last-child::after {align-self: flex-start;width: 50%;}#sk-container-id-1 div.sk-parallel-item:only-child::after {width: 0;}#sk-container-id-1 div.sk-dashed-wrapped {border: 1px dashed gray;margin: 0 0.4em 0.5em 0.4em;box-sizing: border-box;padding-bottom: 0.4em;background-color: white;}#sk-container-id-1 div.sk-label label {font-family: monospace;font-weight: bold;display: inline-block;line-height: 1.2em;}#sk-container-id-1 div.sk-label-container {text-align: center;}#sk-container-id-1 div.sk-container {/* jupyter's `normalize.less` sets `[hidden] { display: none; }` but bootstrap.min.css set `[hidden] { display: none !important; }` so we also need the `!important` here to be able to override the default hidden behavior on the sphinx rendered scikit-learn.org. See: https://github.com/scikit-learn/scikit-learn/issues/21755 */display: inline-block !important;position: relative;}#sk-container-id-1 div.sk-text-repr-fallback {display: none;}</style><div id=\"sk-container-id-1\" class=\"sk-top-container\"><div class=\"sk-text-repr-fallback\"><pre>LinearRegression()</pre><b>In a Jupyter environment, please rerun this cell to show the HTML representation or trust the notebook. <br />On GitHub, the HTML representation is unable to render, please try loading this page with nbviewer.org.</b></div><div class=\"sk-container\" hidden><div class=\"sk-item\"><div class=\"sk-estimator sk-toggleable\"><input class=\"sk-toggleable__control sk-hidden--visually\" id=\"sk-estimator-id-1\" type=\"checkbox\" checked><label for=\"sk-estimator-id-1\" class=\"sk-toggleable__label sk-toggleable__label-arrow\">LinearRegression</label><div class=\"sk-toggleable__content\"><pre>LinearRegression()</pre></div></div></div></div></div>"
      ],
      "text/plain": [
       "LinearRegression()"
      ]
     },
     "execution_count": 21,
     "metadata": {},
     "output_type": "execute_result"
    }
   ],
   "source": [
    "#train the model with 70% data\n",
    "lr.fit(x_train,y_train)"
   ]
  },
  {
   "cell_type": "code",
   "execution_count": 22,
   "id": "8bb97c3b",
   "metadata": {},
   "outputs": [
    {
     "name": "stdout",
     "output_type": "stream",
     "text": [
      "slope: [-6.66258272]\n",
      "intercept: 22.339830508474574\n"
     ]
    }
   ],
   "source": [
    "#chcek slope and intercept\n",
    "m=lr.coef_\n",
    "print(\"slope:\",m)\n",
    "c=lr.intercept_\n",
    "print(\"intercept:\",c)"
   ]
  },
  {
   "cell_type": "code",
   "execution_count": 23,
   "id": "dddb335a",
   "metadata": {},
   "outputs": [
    {
     "data": {
      "text/plain": [
       "array([27.31914909, 27.63999115, 16.98803475, 26.79663488, 24.88074943,\n",
       "       24.02822625, 29.91338632, 22.26817837, 17.79472336, 26.14578384,\n",
       "       27.12664386, 29.99588857, 21.74566416, 24.83491485, 23.47821128,\n",
       "       23.10236773, 12.91792404, 29.97755474, 27.41081825,  7.15193387,\n",
       "       23.67988344, 18.95892169, 25.71493879, 28.61168425, 29.94088707,\n",
       "       11.8637287 , 15.57632968, 24.56907429, 27.56665583, 15.10881697,\n",
       "       29.18919996, 17.29970989, 31.58176504, 19.15142693, 25.8891102 ,\n",
       "       21.76399799, 17.91389327, 29.33587062, 12.82625488, 20.48979666,\n",
       "       27.4933205 , 28.03416854, 27.25498068, 12.12956926, 17.69388728,\n",
       "       13.37626984, 32.46178898, 19.23392917, 25.22909224, 24.47740513,\n",
       "       23.53321278, 23.93655709, 29.44587361, 24.04656008,  7.01443013,\n",
       "       28.05250237,  6.74858956, 28.74002108, 20.77397106, 30.60090503,\n",
       "       20.453129  , 28.23584069, 15.96134016, 18.05139701,  7.13360004,\n",
       "       29.60171118, 31.9576086 , 26.2924545 , 24.6882442 , 23.55154661,\n",
       "       28.5841835 ,  8.29779837, 21.38815443, 23.23987147, 21.30565219,\n",
       "       24.66991037, 31.50842971, 26.67746497, 27.44748592, 30.95841475,\n",
       "       20.11395311, 24.77991336, 29.28086912, 12.89042329, 28.74002108,\n",
       "       29.66587959, 16.52052203, 29.56504352, 21.29648527, 18.67474729,\n",
       "       29.05169622, 29.52837585, 17.65721962, 22.82736025, 20.9114748 ,\n",
       "       22.0573393 , 25.35742907, 26.74163338, 30.42673362, 22.30484604,\n",
       "       19.83894563, 16.94220017, 28.89585865, 27.93333247,  5.97856862,\n",
       "       22.90986249, 18.49140897, 29.18003304, 22.1673423 , 27.19081227,\n",
       "       31.32509139, 25.93494478, 14.49463359, 28.29084219, 27.08080928,\n",
       "       31.59093196, 25.29326066, 23.50571203, 32.40678748, 27.40165134,\n",
       "       25.08242159, 17.07053699, 29.7850495 , 21.21398303, 25.50409972,\n",
       "       22.37818136, 26.35662291, 25.89827711, 20.75563723, 29.37253828,\n",
       "       21.25065069, 24.72491186, 28.52918201, 10.68119653, 27.60332349,\n",
       "       27.86916405,  9.63616811, 16.79552951, 27.29164835, 18.44557439,\n",
       "       29.11586463, 17.29970989, 17.11637157, 28.39167827, 31.16925382,\n",
       "       25.82494178, 27.62165732, 14.67797191, 28.1258377 , 17.78555644,\n",
       "       25.4307644 , 15.99800782])"
      ]
     },
     "execution_count": 23,
     "metadata": {},
     "output_type": "execute_result"
    }
   ],
   "source": [
    "#test the 30% of data using predict method\n",
    "y_pred=lr.predict(x_test)#y_pred=m1*x1+=m2*x2+=m3*x3+c\n",
    "y_pred"
   ]
  },
  {
   "cell_type": "code",
   "execution_count": null,
   "id": "d2a9b7d9",
   "metadata": {},
   "outputs": [],
   "source": []
  },
  {
   "cell_type": "code",
   "execution_count": 24,
   "id": "65e412aa",
   "metadata": {},
   "outputs": [
    {
     "name": "stdout",
     "output_type": "stream",
     "text": [
      "mean_squared_error: 42.62024347153971\n"
     ]
    }
   ],
   "source": [
    "#find MSE\n",
    "from sklearn.metrics import mean_squared_error\n",
    "mse=mean_squared_error(y_test,y_pred)\n",
    "#mse =sum(ao-po)^2/no. of datapoints\n",
    "print(\"mean_squared_error:\" ,mse)"
   ]
  },
  {
   "cell_type": "code",
   "execution_count": 25,
   "id": "df57805e",
   "metadata": {},
   "outputs": [
    {
     "name": "stdout",
     "output_type": "stream",
     "text": [
      "6.528418144661057\n"
     ]
    }
   ],
   "source": [
    "#root mean squared error=sqrt(MSE)\n",
    "mse=mean_squared_error(y_test,y_pred)\n",
    "RMSE=np.sqrt(mse)\n",
    "print(RMSE)"
   ]
  },
  {
   "cell_type": "code",
   "execution_count": 26,
   "id": "40efb5f7",
   "metadata": {},
   "outputs": [
    {
     "name": "stdout",
     "output_type": "stream",
     "text": [
      "R2-Score: 0.5349901044757204\n"
     ]
    }
   ],
   "source": [
    "#FIND r2-score TO THE CHECK THE MODEL IS WORKING GOOD OR NOT\n",
    "from sklearn.metrics import r2_score\n",
    "print(\"R2-Score:\",r2_score(y_test,y_pred))\n",
    "#it is good becuase it is not nearest to 1 , it is giving 53% accuracy for input.means it is low score and MSE is also low"
   ]
  },
  {
   "cell_type": "code",
   "execution_count": 27,
   "id": "05dc6a17",
   "metadata": {},
   "outputs": [
    {
     "data": {
      "image/png": "[encoded data removed]",
      "text/plain": [
       "<Figure size 432x288 with 2 Axes>"
      ]
     },
     "metadata": {
      "needs_background": "light"
     },
     "output_type": "display_data"
    }
   ],
   "source": [
    "#multicolinearity condition : it means if one input is correlated with other input means multicolinearity occurs\n",
    "#check the correlation\n",
    "sb.heatmap(df.corr(),annot=True)\n",
    "plt.show()\n"
   ]
  },
  {
   "cell_type": "code",
   "execution_count": 28,
   "id": "54da449d",
   "metadata": {},
   "outputs": [],
   "source": [
    "#check linear relation between inputs() and output()\n",
    "#use some tricks\n",
    "#Residual =(actual output-predicted output)\n",
    "residual=y_test-y_pred\n",
    "#print(residual)"
   ]
  },
  {
   "cell_type": "code",
   "execution_count": 29,
   "id": "547a7f8d",
   "metadata": {},
   "outputs": [
    {
     "data": {
      "text/html": [
       "<div>\n",
       "<style scoped>\n",
       "    .dataframe tbody tr th:only-of-type {\n",
       "        vertical-align: middle;\n",
       "    }\n",
       "\n",
       "    .dataframe tbody tr th {\n",
       "        vertical-align: top;\n",
       "    }\n",
       "\n",
       "    .dataframe thead th {\n",
       "        text-align: right;\n",
       "    }\n",
       "</style>\n",
       "<table border=\"1\" class=\"dataframe\">\n",
       "  <thead>\n",
       "    <tr style=\"text-align: right;\">\n",
       "      <th></th>\n",
       "      <th>y_pred</th>\n",
       "      <th>residual</th>\n",
       "    </tr>\n",
       "  </thead>\n",
       "  <tbody>\n",
       "    <tr>\n",
       "      <th>307</th>\n",
       "      <td>27.319149</td>\n",
       "      <td>0.880851</td>\n",
       "    </tr>\n",
       "    <tr>\n",
       "      <th>343</th>\n",
       "      <td>27.639991</td>\n",
       "      <td>-3.739991</td>\n",
       "    </tr>\n",
       "    <tr>\n",
       "      <th>47</th>\n",
       "      <td>16.988035</td>\n",
       "      <td>-0.388035</td>\n",
       "    </tr>\n",
       "    <tr>\n",
       "      <th>67</th>\n",
       "      <td>26.796635</td>\n",
       "      <td>-4.796635</td>\n",
       "    </tr>\n",
       "    <tr>\n",
       "      <th>362</th>\n",
       "      <td>24.880749</td>\n",
       "      <td>-4.080749</td>\n",
       "    </tr>\n",
       "  </tbody>\n",
       "</table>\n",
       "</div>"
      ],
      "text/plain": [
       "        y_pred  residual\n",
       "307  27.319149  0.880851\n",
       "343  27.639991 -3.739991\n",
       "47   16.988035 -0.388035\n",
       "67   26.796635 -4.796635\n",
       "362  24.880749 -4.080749"
      ]
     },
     "execution_count": 29,
     "metadata": {},
     "output_type": "execute_result"
    }
   ],
   "source": [
    "dict={\"y_pred\":y_pred,\"residual\":residual}\n",
    "df2=pd.DataFrame(dict)\n",
    "df2.head()"
   ]
  },
  {
   "cell_type": "code",
   "execution_count": 30,
   "id": "5eb054aa",
   "metadata": {},
   "outputs": [
    {
     "data": {
      "image/png": "[encoded data removed]",
      "text/plain": [
       "<Figure size 432x288 with 1 Axes>"
      ]
     },
     "metadata": {
      "needs_background": "light"
     },
     "output_type": "display_data"
    }
   ],
   "source": [
    "#visualize scatterplot between y_pred and residual\n",
    "#residual is denpend on y_pred\n",
    "#input:residual\n",
    "#output: y_pred\n",
    "sb.scatterplot(data=df2,x=\"residual\",y=\"y_pred\")\n",
    "plt.show()"
   ]
  },
  {
   "cell_type": "code",
   "execution_count": 31,
   "id": "ebdec9fb",
   "metadata": {},
   "outputs": [
    {
     "data": {
      "image/png": "[encoded data removed]",
      "text/plain": [
       "<Figure size 432x288 with 2 Axes>"
      ]
     },
     "metadata": {
      "needs_background": "light"
     },
     "output_type": "display_data"
    }
   ],
   "source": [
    "sb.heatmap(df2.corr(),annot=True)\n",
    "plt.show() "
   ]
  },
  {
   "cell_type": "code",
   "execution_count": 32,
   "id": "c90d93a4",
   "metadata": {},
   "outputs": [
    {
     "name": "stdout",
     "output_type": "stream",
     "text": [
      "1.5766932256272943\n"
     ]
    },
    {
     "data": {
      "image/png": "[encoded data removed]",
      "text/plain": [
       "<Figure size 432x288 with 1 Axes>"
      ]
     },
     "metadata": {
      "needs_background": "light"
     },
     "output_type": "display_data"
    }
   ],
   "source": [
    "sb.histplot(residual)\n",
    "print(residual.skew())"
   ]
  },
  {
   "cell_type": "code",
   "execution_count": 33,
   "id": "d83d2118",
   "metadata": {},
   "outputs": [],
   "source": [
    "# 2nd assuption is not satisfied so as 3rd assupmtion\n",
    "# so we are going for polynomial \n"
   ]
  },
  {
   "cell_type": "code",
   "execution_count": 34,
   "id": "0b334bb6",
   "metadata": {},
   "outputs": [
    {
     "data": {
      "text/html": [
       "<div>\n",
       "<style scoped>\n",
       "    .dataframe tbody tr th:only-of-type {\n",
       "        vertical-align: middle;\n",
       "    }\n",
       "\n",
       "    .dataframe tbody tr th {\n",
       "        vertical-align: top;\n",
       "    }\n",
       "\n",
       "    .dataframe thead th {\n",
       "        text-align: right;\n",
       "    }\n",
       "</style>\n",
       "<table border=\"1\" class=\"dataframe\">\n",
       "  <thead>\n",
       "    <tr style=\"text-align: right;\">\n",
       "      <th></th>\n",
       "      <th>indus</th>\n",
       "      <th>rm</th>\n",
       "      <th>tax</th>\n",
       "      <th>ptratio</th>\n",
       "      <th>lstat</th>\n",
       "      <th>medv</th>\n",
       "    </tr>\n",
       "  </thead>\n",
       "  <tbody>\n",
       "    <tr>\n",
       "      <th>0</th>\n",
       "      <td>2.31</td>\n",
       "      <td>6.575</td>\n",
       "      <td>296</td>\n",
       "      <td>15.3</td>\n",
       "      <td>4.98</td>\n",
       "      <td>24.0</td>\n",
       "    </tr>\n",
       "    <tr>\n",
       "      <th>1</th>\n",
       "      <td>7.07</td>\n",
       "      <td>6.421</td>\n",
       "      <td>242</td>\n",
       "      <td>17.8</td>\n",
       "      <td>9.14</td>\n",
       "      <td>21.6</td>\n",
       "    </tr>\n",
       "    <tr>\n",
       "      <th>2</th>\n",
       "      <td>7.07</td>\n",
       "      <td>7.185</td>\n",
       "      <td>242</td>\n",
       "      <td>17.8</td>\n",
       "      <td>4.03</td>\n",
       "      <td>34.7</td>\n",
       "    </tr>\n",
       "    <tr>\n",
       "      <th>3</th>\n",
       "      <td>2.18</td>\n",
       "      <td>6.998</td>\n",
       "      <td>222</td>\n",
       "      <td>18.7</td>\n",
       "      <td>2.94</td>\n",
       "      <td>33.4</td>\n",
       "    </tr>\n",
       "    <tr>\n",
       "      <th>4</th>\n",
       "      <td>2.18</td>\n",
       "      <td>7.147</td>\n",
       "      <td>222</td>\n",
       "      <td>18.7</td>\n",
       "      <td>5.33</td>\n",
       "      <td>36.2</td>\n",
       "    </tr>\n",
       "  </tbody>\n",
       "</table>\n",
       "</div>"
      ],
      "text/plain": [
       "   indus     rm  tax  ptratio  lstat  medv\n",
       "0   2.31  6.575  296     15.3   4.98  24.0\n",
       "1   7.07  6.421  242     17.8   9.14  21.6\n",
       "2   7.07  7.185  242     17.8   4.03  34.7\n",
       "3   2.18  6.998  222     18.7   2.94  33.4\n",
       "4   2.18  7.147  222     18.7   5.33  36.2"
      ]
     },
     "execution_count": 34,
     "metadata": {},
     "output_type": "execute_result"
    }
   ],
   "source": [
    "#polynomial linear regression(PLR):- when fail more than 2 assumption thyen go for PLR \n",
    "#We increase the degree of inputs\n",
    "df.head()"
   ]
  },
  {
   "cell_type": "code",
   "execution_count": 35,
   "id": "5e27b58b",
   "metadata": {},
   "outputs": [],
   "source": [
    "#select input  and output from dataset\n",
    "x=df[[\"lstat\"]]# 2D \n",
    "y=df[\"medv\"]#1D"
   ]
  },
  {
   "cell_type": "code",
   "execution_count": 36,
   "id": "557b27da",
   "metadata": {},
   "outputs": [],
   "source": [
    "#increase the degree of input  variables\n",
    "#take degree of input= 2\n",
    "#call PolynomialFeatures inbuilt class\n",
    "from sklearn.preprocessing import PolynomialFeatures\n"
   ]
  },
  {
   "cell_type": "code",
   "execution_count": 37,
   "id": "9ea1b76a",
   "metadata": {},
   "outputs": [],
   "source": [
    "#create the object of PolinomialFeatures class and give degree of input\n",
    "#pf=PolynomialFeatures(2)#parameterise constructor\n",
    "#pf=PolynomialFeatures(3)\n",
    "#pf=PolynomialFeatures(4)\n",
    "pf=PolynomialFeatures(5)"
   ]
  },
  {
   "cell_type": "code",
   "execution_count": 38,
   "id": "fcebb025",
   "metadata": {},
   "outputs": [],
   "source": [
    "x_poly=pf.fit_transform(x)"
   ]
  },
  {
   "cell_type": "code",
   "execution_count": 39,
   "id": "83664367",
   "metadata": {},
   "outputs": [
    {
     "data": {
      "text/plain": [
       "array([[1.00000000e+00, 4.98000000e+00, 2.48004000e+01, 1.23505992e+02,\n",
       "        6.15059840e+02, 3.06299800e+03],\n",
       "       [1.00000000e+00, 9.14000000e+00, 8.35396000e+01, 7.63551944e+02,\n",
       "        6.97886477e+03, 6.37868240e+04],\n",
       "       [1.00000000e+00, 4.03000000e+00, 1.62409000e+01, 6.54508270e+01,\n",
       "        2.63766833e+02, 1.06298034e+03],\n",
       "       ...,\n",
       "       [1.00000000e+00, 5.64000000e+00, 3.18096000e+01, 1.79406144e+02,\n",
       "        1.01185065e+03, 5.70683768e+03],\n",
       "       [1.00000000e+00, 6.48000000e+00, 4.19904000e+01, 2.72097792e+02,\n",
       "        1.76319369e+03, 1.14254951e+04],\n",
       "       [1.00000000e+00, 7.88000000e+00, 6.20944000e+01, 4.89303872e+02,\n",
       "        3.85571451e+03, 3.03830303e+04]])"
      ]
     },
     "execution_count": 39,
     "metadata": {},
     "output_type": "execute_result"
    }
   ],
   "source": [
    "x_poly"
   ]
  },
  {
   "cell_type": "code",
   "execution_count": 40,
   "id": "5c6cd776",
   "metadata": {},
   "outputs": [],
   "source": [
    "#train_test_split\n",
    "x_train,x_test,y_train,y_test=train_test_split(x_poly,y,test_size=0.3,random_state=1)"
   ]
  },
  {
   "cell_type": "code",
   "execution_count": 41,
   "id": "657cfa19",
   "metadata": {},
   "outputs": [],
   "source": [
    "#create object of LinearRegression class \n",
    "lr=LinearRegression()"
   ]
  },
  {
   "cell_type": "code",
   "execution_count": 42,
   "id": "7d707445",
   "metadata": {},
   "outputs": [
    {
     "data": {
      "text/html": [
       "<style>#sk-container-id-2 {color: black;background-color: white;}#sk-container-id-2 pre{padding: 0;}#sk-container-id-2 div.sk-toggleable {background-color: white;}#sk-container-id-2 label.sk-toggleable__label {cursor: pointer;display: block;width: 100%;margin-bottom: 0;padding: 0.3em;box-sizing: border-box;text-align: center;}#sk-container-id-2 label.sk-toggleable__label-arrow:before {content: \"▸\";float: left;margin-right: 0.25em;color: #696969;}#sk-container-id-2 label.sk-toggleable__label-arrow:hover:before {color: black;}#sk-container-id-2 div.sk-estimator:hover label.sk-toggleable__label-arrow:before {color: black;}#sk-container-id-2 div.sk-toggleable__content {max-height: 0;max-width: 0;overflow: hidden;text-align: left;background-color: #f0f8ff;}#sk-container-id-2 div.sk-toggleable__content pre {margin: 0.2em;color: black;border-radius: 0.25em;background-color: #f0f8ff;}#sk-container-id-2 input.sk-toggleable__control:checked~div.sk-toggleable__content {max-height: 200px;max-width: 100%;overflow: auto;}#sk-container-id-2 input.sk-toggleable__control:checked~label.sk-toggleable__label-arrow:before {content: \"▾\";}#sk-container-id-2 div.sk-estimator input.sk-toggleable__control:checked~label.sk-toggleable__label {background-color: #d4ebff;}#sk-container-id-2 div.sk-label input.sk-toggleable__control:checked~label.sk-toggleable__label {background-color: #d4ebff;}#sk-container-id-2 input.sk-hidden--visually {border: 0;clip: rect(1px 1px 1px 1px);clip: rect(1px, 1px, 1px, 1px);height: 1px;margin: -1px;overflow: hidden;padding: 0;position: absolute;width: 1px;}#sk-container-id-2 div.sk-estimator {font-family: monospace;background-color: #f0f8ff;border: 1px dotted black;border-radius: 0.25em;box-sizing: border-box;margin-bottom: 0.5em;}#sk-container-id-2 div.sk-estimator:hover {background-color: #d4ebff;}#sk-container-id-2 div.sk-parallel-item::after {content: \"\";width: 100%;border-bottom: 1px solid gray;flex-grow: 1;}#sk-container-id-2 div.sk-label:hover label.sk-toggleable__label {background-color: #d4ebff;}#sk-container-id-2 div.sk-serial::before {content: \"\";position: absolute;border-left: 1px solid gray;box-sizing: border-box;top: 0;bottom: 0;left: 50%;z-index: 0;}#sk-container-id-2 div.sk-serial {display: flex;flex-direction: column;align-items: center;background-color: white;padding-right: 0.2em;padding-left: 0.2em;position: relative;}#sk-container-id-2 div.sk-item {position: relative;z-index: 1;}#sk-container-id-2 div.sk-parallel {display: flex;align-items: stretch;justify-content: center;background-color: white;position: relative;}#sk-container-id-2 div.sk-item::before, #sk-container-id-2 div.sk-parallel-item::before {content: \"\";position: absolute;border-left: 1px solid gray;box-sizing: border-box;top: 0;bottom: 0;left: 50%;z-index: -1;}#sk-container-id-2 div.sk-parallel-item {display: flex;flex-direction: column;z-index: 1;position: relative;background-color: white;}#sk-container-id-2 div.sk-parallel-item:first-child::after {align-self: flex-end;width: 50%;}#sk-container-id-2 div.sk-parallel-item:last-child::after {align-self: flex-start;width: 50%;}#sk-container-id-2 div.sk-parallel-item:only-child::after {width: 0;}#sk-container-id-2 div.sk-dashed-wrapped {border: 1px dashed gray;margin: 0 0.4em 0.5em 0.4em;box-sizing: border-box;padding-bottom: 0.4em;background-color: white;}#sk-container-id-2 div.sk-label label {font-family: monospace;font-weight: bold;display: inline-block;line-height: 1.2em;}#sk-container-id-2 div.sk-label-container {text-align: center;}#sk-container-id-2 div.sk-container {/* jupyter's `normalize.less` sets `[hidden] { display: none; }` but bootstrap.min.css set `[hidden] { display: none !important; }` so we also need the `!important` here to be able to override the default hidden behavior on the sphinx rendered scikit-learn.org. See: https://github.com/scikit-learn/scikit-learn/issues/21755 */display: inline-block !important;position: relative;}#sk-container-id-2 div.sk-text-repr-fallback {display: none;}</style><div id=\"sk-container-id-2\" class=\"sk-top-container\"><div class=\"sk-text-repr-fallback\"><pre>LinearRegression()</pre><b>In a Jupyter environment, please rerun this cell to show the HTML representation or trust the notebook. <br />On GitHub, the HTML representation is unable to render, please try loading this page with nbviewer.org.</b></div><div class=\"sk-container\" hidden><div class=\"sk-item\"><div class=\"sk-estimator sk-toggleable\"><input class=\"sk-toggleable__control sk-hidden--visually\" id=\"sk-estimator-id-2\" type=\"checkbox\" checked><label for=\"sk-estimator-id-2\" class=\"sk-toggleable__label sk-toggleable__label-arrow\">LinearRegression</label><div class=\"sk-toggleable__content\"><pre>LinearRegression()</pre></div></div></div></div></div>"
      ],
      "text/plain": [
       "LinearRegression()"
      ]
     },
     "execution_count": 42,
     "metadata": {},
     "output_type": "execute_result"
    }
   ],
   "source": [
    "#train the model with 70% data\n",
    "lr.fit(x_train,y_train)"
   ]
  },
  {
   "cell_type": "code",
   "execution_count": 43,
   "id": "3f358511",
   "metadata": {},
   "outputs": [
    {
     "data": {
      "text/plain": [
       "array([25.3263864 , 25.98557395, 16.1329319 , 24.39605855, 22.07898291,\n",
       "       21.38936213, 33.33835478, 20.2144907 , 16.86412952, 23.44551176,\n",
       "       24.96418321, 33.71836178, 19.8795868 , 22.03826124, 21.00075943,\n",
       "       20.75033043, 12.5900566 , 33.63308542, 25.50741963, 11.40116079,\n",
       "       21.13958243, 17.86126141, 22.91962529, 28.47958314, 33.46395936,\n",
       "       11.91959685, 14.82429759, 21.81115464, 25.82848128, 14.39679608,\n",
       "       30.38929097, 16.4182963 , 43.14957062, 18.01769464, 23.12349986,\n",
       "       19.89143952, 16.96979556, 30.93357733, 12.52537597, 19.03185783,\n",
       "       25.67526611, 26.90035362, 25.20299486, 12.07270748, 16.77417795,\n",
       "       12.92944736, 50.49530864, 18.08393604, 22.40550494, 21.73615655,\n",
       "       21.03826187, 21.32222919, 31.35874962, 21.4029213 , 11.44664943,\n",
       "       26.94594118, 11.54177981, 28.87349044, 19.23123004, 36.81395314,\n",
       "       19.00575204, 27.41760485, 15.18069743, 17.09080595, 11.40707198,\n",
       "       31.98686213, 46.07590834, 23.64203479, 21.91111716, 21.05081981,\n",
       "       28.39731526, 11.13838973, 19.64612313, 20.84090367, 19.5915108 ,\n",
       "       21.89554967, 42.61289559, 24.20608999, 25.58143483, 38.92063858,\n",
       "       18.75994221, 21.99002791, 30.72648528, 12.57053524, 28.87349044,\n",
       "       32.25453444, 15.70049704, 31.8362975 , 19.5854235 , 17.62567044,\n",
       "       29.90169282, 31.68745159, 16.74135049, 20.57183838, 19.32590947,\n",
       "       20.0799246 , 22.53413125, 24.30742558, 35.86476888, 20.23785763,\n",
       "       18.55470406, 16.09073207, 29.37458376, 26.65459816, 11.86124158,\n",
       "       20.62507979, 17.47083755, 30.35611127, 20.1501904 , 25.08227982,\n",
       "       41.31809001, 23.1790577 , 13.85049591, 27.5648472 , 24.88139979,\n",
       "       43.21742276, 22.46921717, 21.01947902, 49.98412961, 25.48906017,\n",
       "       22.26418561, 16.20875267, 32.76603309, 19.53045743, 22.68722904,\n",
       "       20.28458317, 23.73106376, 23.13454616, 19.21852044, 31.07366058,\n",
       "       19.55492737, 21.94246447, 28.23500152, 11.38732979, 25.90653715,\n",
       "       26.50251144, 11.13878031, 15.95536377, 25.27317282, 17.43179441,\n",
       "       30.12656137, 16.4182963 , 16.25079277, 27.84191031, 40.26863343,\n",
       "       23.04707498, 25.9459322 , 14.01126636, 27.1311302 , 16.85597219,\n",
       "       22.60984035, 15.21475479])"
      ]
     },
     "execution_count": 43,
     "metadata": {},
     "output_type": "execute_result"
    }
   ],
   "source": [
    "#test the 30% of data using predict method\n",
    "y_pred=lr.predict(x_test)#y_pred=m1*x1+=m2*x2+c\n",
    "y_pred"
   ]
  },
  {
   "cell_type": "code",
   "execution_count": 44,
   "id": "5b4fb3e5",
   "metadata": {},
   "outputs": [
    {
     "name": "stdout",
     "output_type": "stream",
     "text": [
      "slope: [ 0.00000000e+00 -1.32534255e+01  1.42123917e+00 -7.57294157e-02\n",
      "  1.89352236e-03 -1.77050455e-05]\n",
      "intercept: 71.21336372377517\n"
     ]
    }
   ],
   "source": [
    "#chcek slope and intercept\n",
    "m=lr.coef_\n",
    "print(\"slope:\",m)\n",
    "c=lr.intercept_\n",
    "print(\"intercept:\",c)"
   ]
  },
  {
   "cell_type": "code",
   "execution_count": 45,
   "id": "31d8b937",
   "metadata": {},
   "outputs": [
    {
     "name": "stdout",
     "output_type": "stream",
     "text": [
      "mean_squared_error: 32.84454482473168\n"
     ]
    }
   ],
   "source": [
    "#find MSE\n",
    "#from sklearn.metrics import mean_squared_error\n",
    "mse=mean_squared_error(y_test,y_pred)\n",
    "#mse =sum(ao-po)^2/no. of datapoints\n",
    "print(\"mean_squared_error:\" ,mse)"
   ]
  },
  {
   "cell_type": "code",
   "execution_count": 46,
   "id": "fce80dd2",
   "metadata": {},
   "outputs": [
    {
     "name": "stdout",
     "output_type": "stream",
     "text": [
      "root mean squared error 5.731016037731153\n"
     ]
    }
   ],
   "source": [
    "#root mean squared error=sqrt(MSE)\n",
    "mse=mean_squared_error(y_test,y_pred)\n",
    "RMSE=np.sqrt(mse)\n",
    "print(\"root mean squared error\",RMSE)"
   ]
  },
  {
   "cell_type": "code",
   "execution_count": 47,
   "id": "0640848f",
   "metadata": {},
   "outputs": [],
   "source": [
    "#clearly see, error is reduced as compared to previous model"
   ]
  },
  {
   "cell_type": "code",
   "execution_count": 48,
   "id": "2dd6d061",
   "metadata": {},
   "outputs": [
    {
     "name": "stdout",
     "output_type": "stream",
     "text": [
      "R2-Score: 0.6416482611674945\n"
     ]
    }
   ],
   "source": [
    "#FIND r2-score TO THE CHECK THE MODEL IS WORKING GOOD OR NOT\n",
    "#from sklearn.metrics import r2_score\n",
    "print(\"R2-Score:\",r2_score(y_test,y_pred))\n",
    "#it is good becuase it is not nearest to 1 , it is giving 64% accuracy for input.means it is good score and MSE is also not low"
   ]
  },
  {
   "cell_type": "markdown",
   "id": "e95a3abe",
   "metadata": {},
   "source": [
    "# checking assumption after PLR"
   ]
  },
  {
   "cell_type": "code",
   "execution_count": 49,
   "id": "fc4b3dbd",
   "metadata": {},
   "outputs": [
    {
     "data": {
      "image/png": "[encoded data removed]",
      "text/plain": [
       "<Figure size 432x288 with 1 Axes>"
      ]
     },
     "metadata": {
      "needs_background": "light"
     },
     "output_type": "display_data"
    }
   ],
   "source": [
    "#ist assumption is cleard\n",
    "#checking remaining assumption\n",
    "#check linear relation between inputs(tv,radio) and output(sales)\n",
    "#use some tricks\n",
    "#Residual =(actual output-predicted output)\n",
    "residual=y_test-y_pred\n",
    "#print(residual)\n",
    "#visualize scatterplot between y_pred and residual\n",
    "#residual is denpend on y_pred\n",
    "#input:residual\n",
    "#output: y_pred\n",
    "sb.scatterplot(y_pred,residual)\n",
    "plt.show()"
   ]
  },
  {
   "cell_type": "code",
   "execution_count": 50,
   "id": "cdc677f7",
   "metadata": {},
   "outputs": [
    {
     "data": {
      "text/html": [
       "<div>\n",
       "<style scoped>\n",
       "    .dataframe tbody tr th:only-of-type {\n",
       "        vertical-align: middle;\n",
       "    }\n",
       "\n",
       "    .dataframe tbody tr th {\n",
       "        vertical-align: top;\n",
       "    }\n",
       "\n",
       "    .dataframe thead th {\n",
       "        text-align: right;\n",
       "    }\n",
       "</style>\n",
       "<table border=\"1\" class=\"dataframe\">\n",
       "  <thead>\n",
       "    <tr style=\"text-align: right;\">\n",
       "      <th></th>\n",
       "      <th>y_pred</th>\n",
       "      <th>residual</th>\n",
       "    </tr>\n",
       "  </thead>\n",
       "  <tbody>\n",
       "    <tr>\n",
       "      <th>307</th>\n",
       "      <td>25.326386</td>\n",
       "      <td>2.873614</td>\n",
       "    </tr>\n",
       "    <tr>\n",
       "      <th>343</th>\n",
       "      <td>25.985574</td>\n",
       "      <td>-2.085574</td>\n",
       "    </tr>\n",
       "    <tr>\n",
       "      <th>47</th>\n",
       "      <td>16.132932</td>\n",
       "      <td>0.467068</td>\n",
       "    </tr>\n",
       "    <tr>\n",
       "      <th>67</th>\n",
       "      <td>24.396059</td>\n",
       "      <td>-2.396059</td>\n",
       "    </tr>\n",
       "    <tr>\n",
       "      <th>362</th>\n",
       "      <td>22.078983</td>\n",
       "      <td>-1.278983</td>\n",
       "    </tr>\n",
       "  </tbody>\n",
       "</table>\n",
       "</div>"
      ],
      "text/plain": [
       "        y_pred  residual\n",
       "307  25.326386  2.873614\n",
       "343  25.985574 -2.085574\n",
       "47   16.132932  0.467068\n",
       "67   24.396059 -2.396059\n",
       "362  22.078983 -1.278983"
      ]
     },
     "execution_count": 50,
     "metadata": {},
     "output_type": "execute_result"
    }
   ],
   "source": [
    "#to check correlation between y_pred ande residualwe are creating dataset df_new\n",
    "dict={\"y_pred\":y_pred,\"residual\":residual}\n",
    "df_new=pd.DataFrame(dict)\n",
    "df_new.head()"
   ]
  },
  {
   "cell_type": "code",
   "execution_count": 51,
   "id": "a3b503fc",
   "metadata": {},
   "outputs": [
    {
     "data": {
      "image/png": "[encoded data removed]",
      "text/plain": [
       "<Figure size 432x288 with 2 Axes>"
      ]
     },
     "metadata": {
      "needs_background": "light"
     },
     "output_type": "display_data"
    }
   ],
   "source": [
    "sb.heatmap(df_new.corr(),annot=True)\n",
    "plt.show() "
   ]
  },
  {
   "cell_type": "code",
   "execution_count": 52,
   "id": "f48bb44c",
   "metadata": {},
   "outputs": [
    {
     "name": "stdout",
     "output_type": "stream",
     "text": [
      "1.22797728129864\n"
     ]
    },
    {
     "data": {
      "image/png": "[encoded data removed]",
      "text/plain": [
       "<Figure size 432x288 with 1 Axes>"
      ]
     },
     "metadata": {
      "needs_background": "light"
     },
     "output_type": "display_data"
    }
   ],
   "source": [
    "#3rd assumption : fail\n",
    "#4th assumption :N.D. curve\n",
    "sb.histplot(residual)\n",
    "print(residual.skew())\n",
    "plt.show()"
   ]
  },
  {
   "cell_type": "code",
   "execution_count": 53,
   "id": "45f5c60d",
   "metadata": {},
   "outputs": [
    {
     "data": {
      "image/png": "[encoded data removed]",
      "text/plain": [
       "<Figure size 432x288 with 1 Axes>"
      ]
     },
     "metadata": {
      "needs_background": "light"
     },
     "output_type": "display_data"
    }
   ],
   "source": [
    "#displot\n",
    "sb.distplot(residual)\n",
    "plt.show()"
   ]
  },
  {
   "cell_type": "code",
   "execution_count": 54,
   "id": "5162e08c",
   "metadata": {},
   "outputs": [
    {
     "data": {
      "text/plain": [
       "(-0.2935408067605654, -1.2715830619302722)"
      ]
     },
     "execution_count": 54,
     "metadata": {},
     "output_type": "execute_result"
    }
   ],
   "source": [
    "residual.mean(),residual.median()"
   ]
  },
  {
   "cell_type": "code",
   "execution_count": 55,
   "id": "37612bef",
   "metadata": {},
   "outputs": [],
   "source": [
    "#we go for regularization"
   ]
  }
 ],
 "metadata": {
  "kernelspec": {
   "display_name": "Python 3 (ipykernel)",
   "language": "python",
   "name": "python3"
  },
  "language_info": {
   "codemirror_mode": {
    "name": "ipython",
    "version": 3
   },
   "file_extension": ".py",
   "mimetype": "text/x-python",
   "name": "python",
   "nbconvert_exporter": "python",
   "pygments_lexer": "ipython3",
   "version": "3.9.12"
  }
 },
 "nbformat": 4,
 "nbformat_minor": 5
}
